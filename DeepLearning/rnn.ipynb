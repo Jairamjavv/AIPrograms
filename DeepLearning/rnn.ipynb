{
 "cells": [
  {
   "cell_type": "code",
   "execution_count": 1,
   "id": "845201bc",
   "metadata": {},
   "outputs": [],
   "source": [
    "import time\n",
    "from collections import namedtuple"
   ]
  },
  {
   "cell_type": "code",
   "execution_count": 2,
   "id": "ecb574db",
   "metadata": {},
   "outputs": [],
   "source": [
    "import numpy as np\n",
    "import tensorflow as tf"
   ]
  },
  {
   "cell_type": "code",
   "execution_count": 5,
   "id": "c94c9ec8",
   "metadata": {},
   "outputs": [],
   "source": [
    "with open ('book.txt' , 'r',encoding=\"utf8\") as f:\n",
    "    text = f.read()\n",
    "vocab = set (text)\n",
    "vocab_to_int = {c: i for i, c in enumerate(vocab)}\n",
    "int_to_vocab = dict(enumerate(vocab))\n",
    "encoded = np.array([vocab_to_int[c] for c in text], dtype=np.int32)\n",
    "\n"
   ]
  },
  {
   "cell_type": "code",
   "execution_count": 6,
   "id": "1de079d1",
   "metadata": {},
   "outputs": [
    {
     "data": {
      "text/plain": [
       "'The Project Gutenberg eBook of Pride and Prejudice, by Jane Austen\\n\\nThis eBook is for the use of any'"
      ]
     },
     "execution_count": 6,
     "metadata": {},
     "output_type": "execute_result"
    }
   ],
   "source": [
    "text[:100]"
   ]
  },
  {
   "cell_type": "code",
   "execution_count": 7,
   "id": "941d209f",
   "metadata": {},
   "outputs": [
    {
     "data": {
      "text/plain": [
       "array([49, 60, 66,  3, 64, 12, 80, 38, 66, 24,  2,  3, 55, 20,  2, 66,  6,\n",
       "       48, 66, 12, 42,  3, 66, 91, 80, 80, 13,  3, 80, 68,  3, 64, 12, 89,\n",
       "       39, 66,  3, 69,  6, 39,  3, 64, 12, 66, 38, 20, 39, 89, 24, 66,  7,\n",
       "        3, 48, 26,  3, 45, 69,  6, 66,  3, 65, 20, 28,  2, 66,  6, 23, 23,\n",
       "       49, 60, 89, 28,  3, 66, 91, 80, 80, 13,  3, 89, 28,  3, 68, 80, 12,\n",
       "        3,  2, 60, 66,  3, 20, 28, 66,  3, 80, 68,  3, 69,  6, 26])"
      ]
     },
     "execution_count": 7,
     "metadata": {},
     "output_type": "execute_result"
    }
   ],
   "source": [
    "encoded[:100]"
   ]
  },
  {
   "cell_type": "code",
   "execution_count": 8,
   "id": "55b2ca7d",
   "metadata": {},
   "outputs": [
    {
     "data": {
      "text/plain": [
       "92"
      ]
     },
     "execution_count": 8,
     "metadata": {},
     "output_type": "execute_result"
    }
   ],
   "source": [
    "len(vocab)"
   ]
  },
  {
   "cell_type": "code",
   "execution_count": 9,
   "id": "059cae2a",
   "metadata": {},
   "outputs": [],
   "source": [
    "def get_batches (arr, n_seqs, n_steps):\n",
    "    # Get the batch size and the number of batches\n",
    "    batch_size = n_seqs * n_steps\n",
    "    n_batches = len(arr)/batch_size\n",
    "    # Keep enough chars to make full batches\n",
    "    arr=arr[:int(n_batches * batch_size)]\n",
    "    # reshape into n_seqs rows\n",
    "    arr = arr.reshape((n_seqs,-1))\n",
    "    for n in range (0, arr.shape[1], n_steps):\n",
    "        #Features\n",
    "        x=arr[:,n:n+n_steps]\n",
    "        #Targets, shifted by one\n",
    "        y=np.zeros_like(x)\n",
    "        y[: , :-1], y[: , -1] = x[ : , 1:], x[:,0]\n",
    "        yield x,y\n",
    "    print('x\\n', x[:10, :10])\n",
    "    print('\\ny\\n', y[:10, :10])"
   ]
  },
  {
   "cell_type": "code",
   "execution_count": 10,
   "id": "6443ddbf",
   "metadata": {},
   "outputs": [],
   "source": [
    "gen=get_batches(encoded,3,2)"
   ]
  },
  {
   "cell_type": "code",
   "execution_count": 11,
   "id": "2f64b3fa",
   "metadata": {},
   "outputs": [
    {
     "data": {
      "text/plain": [
       "(array([[49, 60],\n",
       "        [69,  2],\n",
       "        [26,  3]]),\n",
       " array([[60, 49],\n",
       "        [ 2, 69],\n",
       "        [ 3, 26]]))"
      ]
     },
     "execution_count": 11,
     "metadata": {},
     "output_type": "execute_result"
    }
   ],
   "source": [
    "next(gen)"
   ]
  },
  {
   "cell_type": "code",
   "execution_count": null,
   "id": "230e3255",
   "metadata": {},
   "outputs": [],
   "source": []
  }
 ],
 "metadata": {
  "kernelspec": {
   "display_name": "Python 3 (ipykernel)",
   "language": "python",
   "name": "python3"
  },
  "language_info": {
   "codemirror_mode": {
    "name": "ipython",
    "version": 3
   },
   "file_extension": ".py",
   "mimetype": "text/x-python",
   "name": "python",
   "nbconvert_exporter": "python",
   "pygments_lexer": "ipython3",
   "version": "3.9.7"
  }
 },
 "nbformat": 4,
 "nbformat_minor": 5
}
