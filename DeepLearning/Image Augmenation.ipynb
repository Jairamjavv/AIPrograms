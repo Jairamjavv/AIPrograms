{
 "cells": [
  {
   "cell_type": "code",
   "execution_count": 4,
   "id": "eccf1542",
   "metadata": {},
   "outputs": [],
   "source": [
    "from keras.preprocessing.image import ImageDataGenerator, array_to_img, img_to_array, load_img"
   ]
  },
  {
   "cell_type": "code",
   "execution_count": 3,
   "id": "4e488945",
   "metadata": {},
   "outputs": [],
   "source": [
    "datagen = ImageDataGenerator(\n",
    "    rotation_range=40,\n",
    "    width_shift_range=0.2,\n",
    "    height_shift_range=0.2,\n",
    "    shear_range=0.2,\n",
    "    zoom_range=0.2,\n",
    "    horizontal_flip=True,\n",
    "    fill_mode='nearest'\n",
    ")"
   ]
  },
  {
   "cell_type": "code",
   "execution_count": 12,
   "id": "e4c08b46",
   "metadata": {},
   "outputs": [
    {
     "name": "stdout",
     "output_type": "stream",
     "text": [
      "[[[ 36.  41.  37.]\n",
      "  [ 37.  42.  38.]\n",
      "  [ 38.  42.  41.]\n",
      "  ...\n",
      "  [200. 198. 160.]\n",
      "  [200. 198. 159.]\n",
      "  [203. 201. 162.]]\n",
      "\n",
      " [[ 38.  43.  39.]\n",
      "  [ 39.  44.  40.]\n",
      "  [ 39.  43.  42.]\n",
      "  ...\n",
      "  [205. 203. 165.]\n",
      "  [203. 201. 162.]\n",
      "  [204. 202. 163.]]\n",
      "\n",
      " [[ 41.  46.  42.]\n",
      "  [ 41.  46.  42.]\n",
      "  [ 41.  45.  44.]\n",
      "  ...\n",
      "  [203. 200. 165.]\n",
      "  [199. 197. 159.]\n",
      "  [197. 195. 157.]]\n",
      "\n",
      " ...\n",
      "\n",
      " [[ 33.  31.  32.]\n",
      "  [ 30.  28.  29.]\n",
      "  [ 26.  24.  25.]\n",
      "  ...\n",
      "  [ 41.  28.  20.]\n",
      "  [ 37.  24.  16.]\n",
      "  [ 61.  51.  42.]]\n",
      "\n",
      " [[ 34.  32.  33.]\n",
      "  [ 32.  30.  31.]\n",
      "  [ 27.  25.  26.]\n",
      "  ...\n",
      "  [ 44.  31.  23.]\n",
      "  [ 37.  24.  16.]\n",
      "  [ 65.  55.  46.]]\n",
      "\n",
      " [[ 30.  28.  29.]\n",
      "  [ 28.  26.  27.]\n",
      "  [ 26.  24.  25.]\n",
      "  ...\n",
      "  [ 61.  48.  40.]\n",
      "  [ 39.  26.  18.]\n",
      "  [ 38.  28.  19.]]]\n"
     ]
    }
   ],
   "source": [
    "img = load_img('./1.jpg')\n",
    "x = img_to_array(img) # of shape (3,150,150)\n",
    "print(x)"
   ]
  },
  {
   "cell_type": "code",
   "execution_count": 13,
   "id": "c2aa263b",
   "metadata": {},
   "outputs": [
    {
     "name": "stdout",
     "output_type": "stream",
     "text": [
      "(1, 281, 300, 3)\n"
     ]
    }
   ],
   "source": [
    "x = x.reshape((1,) + x.shape) # reshaping it into (1,3,150,150) and also run only 1 time\n",
    "print(x.shape)"
   ]
  },
  {
   "cell_type": "code",
   "execution_count": 16,
   "id": "a453fe5e",
   "metadata": {},
   "outputs": [],
   "source": [
    "i = 0\n",
    "# the save_to_dir= path is given in the same directory of the file\n",
    "for batch in datagen.flow(x, batch_size=1, save_to_dir='preview', save_prefix='cat',save_format='jpeg'):\n",
    "    i+=1\n",
    "    if i>20:\n",
    "        break"
   ]
  },
  {
   "cell_type": "markdown",
   "id": "e34ddb47",
   "metadata": {},
   "source": [
    "## Loading all the images from a folder"
   ]
  },
  {
   "cell_type": "code",
   "execution_count": 1,
   "id": "b8385c80",
   "metadata": {},
   "outputs": [
    {
     "name": "stdout",
     "output_type": "stream",
     "text": [
      "21\n"
     ]
    }
   ],
   "source": [
    "import cv2\n",
    "import os\n",
    "\n",
    "def load_images_from_folder(folder):\n",
    "    images = []\n",
    "    for filename in os.listdir(folder):\n",
    "        img = cv2.imread(os.path.join(folder,filename))\n",
    "        if img is not None:\n",
    "#             cv2.imshow('image',img)\n",
    "            images.append(img)\n",
    "    cv2.waitKey(0) \n",
    "  \n",
    "    #closing all open windows \n",
    "    cv2.destroyAllWindows()\n",
    "    return images\n",
    "\n",
    "print(len(load_images_from_folder('preview')))"
   ]
  },
  {
   "cell_type": "code",
   "execution_count": null,
   "id": "4ae1b24f",
   "metadata": {},
   "outputs": [],
   "source": []
  }
 ],
 "metadata": {
  "kernelspec": {
   "display_name": "Python 3 (ipykernel)",
   "language": "python",
   "name": "python3"
  },
  "language_info": {
   "codemirror_mode": {
    "name": "ipython",
    "version": 3
   },
   "file_extension": ".py",
   "mimetype": "text/x-python",
   "name": "python",
   "nbconvert_exporter": "python",
   "pygments_lexer": "ipython3",
   "version": "3.9.7"
  }
 },
 "nbformat": 4,
 "nbformat_minor": 5
}
